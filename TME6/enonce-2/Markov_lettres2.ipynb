{
 "cells": [
  {
   "cell_type": "markdown",
   "metadata": {},
   "source": [
    "# TME sur la classification de lettres manuscrites\n",
    "## Format des données\n",
    "Nous travaillerons sur des lettres manuscrites.\n",
    "Les données sont fournies au format pickle (le standard de sérialisation python, particulièrement convivial). Pour les charger : "
   ]
  },
  {
   "cell_type": "code",
   "execution_count": 1,
   "metadata": {},
   "outputs": [],
   "source": [
    "import numpy as np\n",
    "import pickle as pkl\n",
    "import matplotlib.pyplot as plt\n",
    "\n",
    "import warnings\n",
    "warnings.filterwarnings('ignore')\n",
    "\n",
    "with open('ressources/lettres.pkl', 'rb') as f:\n",
    "    data = pkl.load(f, encoding='latin1') \n",
    "X = np.array(data.get('letters')) # récupération des données sur les lettres\n",
    "Y = np.array(data.get('labels')) # récupération des étiquettes associées "
   ]
  },
  {
   "cell_type": "markdown",
   "metadata": {},
   "source": [
    "Les données sont dans un format original: une lettre est en fait une série d'angles (exprimés en degrés). Un exemple: "
   ]
  },
  {
   "cell_type": "code",
   "execution_count": 2,
   "metadata": {},
   "outputs": [
    {
     "data": {
      "text/plain": [
       "array([ 36.214493, 347.719116, 322.088898, 312.230957, 314.851013,\n",
       "       315.487213, 313.556702, 326.534973, 141.288971, 167.606689,\n",
       "       199.321594, 217.911087, 226.443298, 235.002472, 252.354492,\n",
       "       270.045654, 291.665161, 350.934723,  17.892815,  20.281025,\n",
       "        28.207161,  43.883423,  53.459026])"
      ]
     },
     "execution_count": 2,
     "metadata": {},
     "output_type": "execute_result"
    }
   ],
   "source": [
    "X[0]"
   ]
  },
  {
   "cell_type": "markdown",
   "metadata": {},
   "source": [
    "Lors de l'acquisition, un stylo intelligent a pris des mesures régulièrement dans le temps: chaque période correspond à un segment de droite et le stylo a calculé l'angle entre deux segments consécutifs... C'est l'information qui vous est fournie.\n",
    "\n",
    "Pour afficher une lettre, il faut reconstruire la trajectoire enregistrée... C'est ce que fait la méthode ci-dessous: "
   ]
  },
  {
   "cell_type": "code",
   "execution_count": 3,
   "metadata": {},
   "outputs": [],
   "source": [
    "# affichage d'une lettre\n",
    "def tracerLettre(let):\n",
    "    a = -let*np.pi/180; # conversion en rad\n",
    "    coord = np.array([[0, 0]]); # point initial\n",
    "    for i in range(len(a)):\n",
    "        x = np.array([[1, 0]]);\n",
    "        rot = np.array([[np.cos(a[i]), -np.sin(a[i])],[ np.sin(a[i]),np.cos(a[i])]])\n",
    "        xr = x.dot(rot) # application de la rotation\n",
    "        coord = np.vstack((coord,xr+coord[-1,:]))\n",
    "    plt.figure()\n",
    "    plt.plot(coord[:,0],coord[:,1])\n",
    "    #plt.savefig(\"exlettre.png\")\n",
    "    return"
   ]
  },
  {
   "cell_type": "code",
   "execution_count": 4,
   "metadata": {},
   "outputs": [
    {
     "name": "stdout",
     "output_type": "stream",
     "text": [
      "a\n"
     ]
    },
    {
     "data": {
      "image/png": "[encoded data removed]",
      "text/plain": [
       "<Figure size 432x288 with 1 Axes>"
      ]
     },
     "metadata": {
      "needs_background": "light"
     },
     "output_type": "display_data"
    }
   ],
   "source": [
    "# il s'agit d'un 'a'\n",
    "tracerLettre(X[0])\n",
    "print(Y[0]) # vérification de l'étiquette"
   ]
  },
  {
   "cell_type": "markdown",
   "metadata": {},
   "source": [
    "## A. Apprentissage d'un modèle CM (max de vraisemblance)\n",
    "### A1. Discrétisation\n",
    "\n",
    "**1 état = 1 angle**\n",
    "\n",
    "Il est nécessaire de regrouper les angles en un nombre fini d'états (par exemple 20)\n",
    "- définir un `intervalle = 360 / n_etats` (18° si on choisit 20 états)\n",
    "- discrétiser tous les signaux à l'aide de la formule `np.floor(x / intervalle)`\n",
    "    - si n_etats = 20 alors [0, 18[ => 0, [18, 36[ => 1, etc...\n",
    "\n",
    "Donner le code de la méthode `discretise(x, d)` qui prend la base des signaux et retourne une base de signaux discrétisés."
   ]
  },
  {
   "cell_type": "code",
   "execution_count": 5,
   "metadata": {},
   "outputs": [],
   "source": [
    "def discretise(x, d):\n",
    "    inter = 360 / d\n",
    "    return np.floor(x / inter) "
   ]
  },
  {
   "cell_type": "code",
   "execution_count": 6,
   "metadata": {},
   "outputs": [
    {
     "data": {
      "text/plain": [
       "array([0., 2., 2., 2., 2., 2., 2., 2., 1., 1., 1., 1., 1., 1., 2., 2., 2.,\n",
       "       2., 0., 0., 0., 0., 0.])"
      ]
     },
     "execution_count": 6,
     "metadata": {},
     "output_type": "execute_result"
    }
   ],
   "source": [
    "discretise(X[0],3)"
   ]
  },
  {
   "cell_type": "markdown",
   "metadata": {},
   "source": [
    "**VALIDATION :** code du premier signal avec une discrétisation sur 3 états:\n",
    "```python\n",
    "array([ 0.,  2.,  2.,  2.,  2.,  2.,  2.,  2.,  1.,  1.,  1.,  1., 1., 1., 2., 2.,  2.,\n",
    "       2.,  0.,  0.,  0.,  0.,  0.])\n",
    "```"
   ]
  },
  {
   "cell_type": "markdown",
   "metadata": {},
   "source": [
    "### A2. Regrouper les indices des signaux par classe (pour faciliter l'apprentissage)"
   ]
  },
  {
   "cell_type": "code",
   "execution_count": 7,
   "metadata": {},
   "outputs": [],
   "source": [
    "def groupByLabel(y):\n",
    "    index = []\n",
    "    for i in np.unique(y): # pour toutes les classes\n",
    "        ind, = np.where(y == i)\n",
    "        index.append(ind)\n",
    "    return index"
   ]
  },
  {
   "cell_type": "markdown",
   "metadata": {},
   "source": [
    "Cette méthode produit simplement une structure type:\n",
    "```python\n",
    "[array([ 0,  1,  2,  3,  4,  5,  6,  7,  8,  9, 10]),\n",
    " array([11, 12, 13, 14, 15, 16, 17, 18, 19, 20, 21]),\n",
    " array([22, 23, 24, 25, 26, 27, 28, 29, 30, 31, 32]),\n",
    " array([33, 34, 35, 36, 37, 38, 39, 40, 41, 42, 43]),\n",
    " array([44, 45, 46, 47, 48, 49, 50, 51, 52, 53, 54]),\n",
    " array([55, 56, 57, 58, 59, 60, 61, 62, 63, 64, 65]),\n",
    " ...\n",
    "```\n",
    "Chaque ligne regroupe les indices de signaux correspondant à une classe. Il y a donc 11 exemples de 'a'."
   ]
  },
  {
   "cell_type": "markdown",
   "metadata": {},
   "source": [
    "### A3. Apprendre les modèles CM\n",
    "\n",
    "Soit {$X_C$} la base de signaux discrétisés correspondant à une classe {$C$} et {$d$} le nombre d'états. Donner le code de la fonction `learnMarkovModel(Xc, d)` qui retourne un tuple contenant Pi et A.\n",
    "\n",
    "Rappel:\n",
    "- Initialisation de \n",
    "```python\n",
    " A = np.zeros((d, d))\n",
    " Pi = np.zeros(d)```\n",
    "- Parcours de tous les signaux et incréments de A et Pi\n",
    "- Normalisation (un peu réfléchie pour éviter les divisions par 0)\n",
    "```python\n",
    "A = A / np.maximum(A.sum(1).reshape(d, 1), 1) # normalisation\n",
    "Pi = Pi / Pi.sum()```\n",
    "\n",
    "**Note** : la solution proposée pour gérer le cas des lignes entièrement à 0 est naïve et n'est pas totalement satisfaisante. Comprendre pourquoi. On proposera une solution améliorée plus loin dans le TME. "
   ]
  },
  {
   "cell_type": "code",
   "execution_count": 8,
   "metadata": {},
   "outputs": [],
   "source": [
    "def learnMarkovModel(Xc, d):\n",
    "    \n",
    "    A = np.zeros((d, d))\n",
    "    Pi = np.zeros(d)\n",
    "    \n",
    "    for x in Xc:\n",
    "        x = x.astype(int)\n",
    "        Pi[x[0]] += 1\n",
    "        for i in range(len(x) - 1):\n",
    "            A[x[i]][x[i+1]] +=1 \n",
    "    A = A / np.maximum(A.sum(1).reshape(d, 1), 1) # normalisation\n",
    "    Pi = Pi / Pi.sum()\n",
    "    return Pi, A"
   ]
  },
  {
   "cell_type": "code",
   "execution_count": 9,
   "metadata": {},
   "outputs": [
    {
     "name": "stdout",
     "output_type": "stream",
     "text": [
      "(array([0.36363636, 0.        , 0.63636364]), array([[0.84444444, 0.06666667, 0.08888889],\n",
      "       [0.        , 0.83333333, 0.16666667],\n",
      "       [0.11382114, 0.06504065, 0.82113821]]))\n"
     ]
    }
   ],
   "source": [
    "g = groupByLabel(Y)\n",
    "first = np.asarray([discretise(X[i],3)  for i in g[0]])\n",
    "print(learnMarkovModel(first,3))"
   ]
  },
  {
   "cell_type": "markdown",
   "metadata": {},
   "source": [
    "**Validation :** premier modèle avec une discrétisation sur 3 états :\n",
    "```python\n",
    "(array([ 0.36363636,  0.        ,  0.63636364]),\n",
    " array([[ 0.84444444,  0.06666667,  0.08888889],\n",
    "       [ 0.        ,  0.83333333,  0.16666667],\n",
    "       [ 0.11382114,  0.06504065,  0.82113821]]))\n",
    "```"
   ]
  },
  {
   "cell_type": "markdown",
   "metadata": {},
   "source": [
    "### A4. Stocker les modèles dans une liste\n",
    "\n",
    "Pour un usage ultérieur plus facile, on utilise le code suivant :"
   ]
  },
  {
   "cell_type": "code",
   "execution_count": 10,
   "metadata": {},
   "outputs": [],
   "source": [
    "def getModels(d):\n",
    "    Xd = np.asarray([discretise(x, d) for x in X])   # application de la discrétisation\n",
    "    index = groupByLabel(Y)  # groupement des signaux par classe\n",
    "    models = []\n",
    "    for cl in range(len(np.unique(Y))): # parcours de toutes les classes et optimisation des modèles\n",
    "        models.append(learnMarkovModel(Xd[index[cl]], d))\n",
    "    return models,Xd"
   ]
  },
  {
   "cell_type": "markdown",
   "metadata": {},
   "source": [
    "### A5. Distribution stationnaire\n",
    "\n",
    "La distribution stationnaire $\\mu$, pour un système ergodique, correspond à:\n",
    "\n",
    "- la distribution des états observés dans l'ensemble des données\n",
    "- la distribution obtenu après un grand nombre de passage dans $A$ à partir de n'importe quelle distribution ou état d'origine (une matrice de transition ergodique va nous permettre de converger)\n",
    "- la solution de l'équation de stabilité: $\\mu = \\mu A$\n",
    "\n",
    "Dans le cas de la lettre 'a' et d'une discrétisation en 3 états, calculer la distribution stationnaire par les deux première méthode et vérifier que vous obtenez des résultats similaires.\n",
    "\n",
    "**Note:** pour la marche aléatoire, vous construirez une boucle sur 100 iérations (borne sup) et vous sortirez dès que la somme des écarts (en absolu) entre $\\mu_t$ et $\\mu_{t+1}$ est inférieure à $10^{-3}$. Vous vérifierez ensuite que le système converge quelque soit l'état de départ (3 appel àla fonction) ou avec une initialisation aléatoire."
   ]
  },
  {
   "cell_type": "markdown",
   "metadata": {},
   "source": [
    "apres avoir resoudre le systeme sur papier on a $\\mu1 = 0.30, \\mu1 = 0.28, \\mu1 = 0.41  $ pour la matrice ci-dessous."
   ]
  },
  {
   "cell_type": "code",
   "execution_count": 11,
   "metadata": {},
   "outputs": [
    {
     "data": {
      "text/plain": [
       "array([[0.84444444, 0.        , 0.11382114],\n",
       "       [0.06666667, 0.83333333, 0.06504065],\n",
       "       [0.08888889, 0.16666667, 0.82113821]])"
      ]
     },
     "execution_count": 11,
     "metadata": {},
     "output_type": "execute_result"
    }
   ],
   "source": [
    "A = learnMarkovModel(first,3)[1]  \n",
    "X = A.T\n",
    "X"
   ]
  },
  {
   "cell_type": "code",
   "execution_count": 12,
   "metadata": {},
   "outputs": [
    {
     "name": "stdout",
     "output_type": "stream",
     "text": [
      "[[0.30813517 0.28113711 0.41072773]\n",
      " [0.2935493  0.28737225 0.41907845]\n",
      " [0.30576987 0.28096253 0.4132676 ]]\n"
     ]
    }
   ],
   "source": [
    "def getU(A):\n",
    "    out = A.copy()\n",
    "    for _ in range(100):\n",
    "        out_new = out @ A\n",
    "        if np.abs(out_new - out).sum() < 10e-3:\n",
    "            return out_new\n",
    "        out = out_new\n",
    "    print(\"error limit\")\n",
    "A = learnMarkovModel(first,3)[1]   \n",
    "print(getU(A))"
   ]
  },
  {
   "cell_type": "code",
   "execution_count": 13,
   "metadata": {},
   "outputs": [
    {
     "ename": "IndexError",
     "evalue": "index 98 is out of bounds for axis 0 with size 3",
     "output_type": "error",
     "traceback": [
      "\u001b[0;31m---------------------------------------------------------------------------\u001b[0m",
      "\u001b[0;31mIndexError\u001b[0m                                Traceback (most recent call last)",
      "\u001b[0;32m<ipython-input-13-5565cba3074d>\u001b[0m in \u001b[0;36m<module>\u001b[0;34m\u001b[0m\n\u001b[0;32m----> 1\u001b[0;31m \u001b[0mnb\u001b[0m \u001b[0;34m=\u001b[0m \u001b[0mnp\u001b[0m\u001b[0;34m.\u001b[0m\u001b[0masarray\u001b[0m\u001b[0;34m(\u001b[0m\u001b[0;34m[\u001b[0m\u001b[0mdiscretise\u001b[0m\u001b[0;34m(\u001b[0m\u001b[0mX\u001b[0m\u001b[0;34m[\u001b[0m\u001b[0mi\u001b[0m\u001b[0;34m]\u001b[0m\u001b[0;34m,\u001b[0m\u001b[0;36m3\u001b[0m\u001b[0;34m)\u001b[0m  \u001b[0;32mfor\u001b[0m \u001b[0mi\u001b[0m \u001b[0;32min\u001b[0m \u001b[0mg\u001b[0m\u001b[0;34m[\u001b[0m\u001b[0mnp\u001b[0m\u001b[0;34m.\u001b[0m\u001b[0mrandom\u001b[0m\u001b[0;34m.\u001b[0m\u001b[0mrandint\u001b[0m\u001b[0;34m(\u001b[0m\u001b[0mlen\u001b[0m\u001b[0;34m(\u001b[0m\u001b[0mg\u001b[0m\u001b[0;34m)\u001b[0m\u001b[0;34m)\u001b[0m\u001b[0;34m]\u001b[0m\u001b[0;34m]\u001b[0m\u001b[0;34m)\u001b[0m\u001b[0;34m\u001b[0m\u001b[0;34m\u001b[0m\u001b[0m\n\u001b[0m\u001b[1;32m      2\u001b[0m \u001b[0mA\u001b[0m \u001b[0;34m=\u001b[0m \u001b[0mlearnMarkovModel\u001b[0m\u001b[0;34m(\u001b[0m\u001b[0mnb\u001b[0m\u001b[0;34m,\u001b[0m\u001b[0;36m3\u001b[0m\u001b[0;34m)\u001b[0m\u001b[0;34m[\u001b[0m\u001b[0;36m1\u001b[0m\u001b[0;34m]\u001b[0m\u001b[0;34m\u001b[0m\u001b[0;34m\u001b[0m\u001b[0m\n\u001b[1;32m      3\u001b[0m \u001b[0mprint\u001b[0m\u001b[0;34m(\u001b[0m\u001b[0mgetU\u001b[0m\u001b[0;34m(\u001b[0m\u001b[0mA\u001b[0m\u001b[0;34m)\u001b[0m\u001b[0;34m)\u001b[0m\u001b[0;34m\u001b[0m\u001b[0;34m\u001b[0m\u001b[0m\n\u001b[1;32m      4\u001b[0m \u001b[0;34m\u001b[0m\u001b[0m\n\u001b[1;32m      5\u001b[0m \u001b[0mnb\u001b[0m \u001b[0;34m=\u001b[0m \u001b[0mnp\u001b[0m\u001b[0;34m.\u001b[0m\u001b[0masarray\u001b[0m\u001b[0;34m(\u001b[0m\u001b[0;34m[\u001b[0m\u001b[0mdiscretise\u001b[0m\u001b[0;34m(\u001b[0m\u001b[0mX\u001b[0m\u001b[0;34m[\u001b[0m\u001b[0mi\u001b[0m\u001b[0;34m]\u001b[0m\u001b[0;34m,\u001b[0m\u001b[0;36m3\u001b[0m\u001b[0;34m)\u001b[0m  \u001b[0;32mfor\u001b[0m \u001b[0mi\u001b[0m \u001b[0;32min\u001b[0m \u001b[0mg\u001b[0m\u001b[0;34m[\u001b[0m\u001b[0mnp\u001b[0m\u001b[0;34m.\u001b[0m\u001b[0mrandom\u001b[0m\u001b[0;34m.\u001b[0m\u001b[0mrandint\u001b[0m\u001b[0;34m(\u001b[0m\u001b[0mlen\u001b[0m\u001b[0;34m(\u001b[0m\u001b[0mg\u001b[0m\u001b[0;34m)\u001b[0m\u001b[0;34m)\u001b[0m\u001b[0;34m]\u001b[0m\u001b[0;34m]\u001b[0m\u001b[0;34m)\u001b[0m\u001b[0;34m\u001b[0m\u001b[0;34m\u001b[0m\u001b[0m\n",
      "\u001b[0;32m<ipython-input-13-5565cba3074d>\u001b[0m in \u001b[0;36m<listcomp>\u001b[0;34m(.0)\u001b[0m\n\u001b[0;32m----> 1\u001b[0;31m \u001b[0mnb\u001b[0m \u001b[0;34m=\u001b[0m \u001b[0mnp\u001b[0m\u001b[0;34m.\u001b[0m\u001b[0masarray\u001b[0m\u001b[0;34m(\u001b[0m\u001b[0;34m[\u001b[0m\u001b[0mdiscretise\u001b[0m\u001b[0;34m(\u001b[0m\u001b[0mX\u001b[0m\u001b[0;34m[\u001b[0m\u001b[0mi\u001b[0m\u001b[0;34m]\u001b[0m\u001b[0;34m,\u001b[0m\u001b[0;36m3\u001b[0m\u001b[0;34m)\u001b[0m  \u001b[0;32mfor\u001b[0m \u001b[0mi\u001b[0m \u001b[0;32min\u001b[0m \u001b[0mg\u001b[0m\u001b[0;34m[\u001b[0m\u001b[0mnp\u001b[0m\u001b[0;34m.\u001b[0m\u001b[0mrandom\u001b[0m\u001b[0;34m.\u001b[0m\u001b[0mrandint\u001b[0m\u001b[0;34m(\u001b[0m\u001b[0mlen\u001b[0m\u001b[0;34m(\u001b[0m\u001b[0mg\u001b[0m\u001b[0;34m)\u001b[0m\u001b[0;34m)\u001b[0m\u001b[0;34m]\u001b[0m\u001b[0;34m]\u001b[0m\u001b[0;34m)\u001b[0m\u001b[0;34m\u001b[0m\u001b[0;34m\u001b[0m\u001b[0m\n\u001b[0m\u001b[1;32m      2\u001b[0m \u001b[0mA\u001b[0m \u001b[0;34m=\u001b[0m \u001b[0mlearnMarkovModel\u001b[0m\u001b[0;34m(\u001b[0m\u001b[0mnb\u001b[0m\u001b[0;34m,\u001b[0m\u001b[0;36m3\u001b[0m\u001b[0;34m)\u001b[0m\u001b[0;34m[\u001b[0m\u001b[0;36m1\u001b[0m\u001b[0;34m]\u001b[0m\u001b[0;34m\u001b[0m\u001b[0;34m\u001b[0m\u001b[0m\n\u001b[1;32m      3\u001b[0m \u001b[0mprint\u001b[0m\u001b[0;34m(\u001b[0m\u001b[0mgetU\u001b[0m\u001b[0;34m(\u001b[0m\u001b[0mA\u001b[0m\u001b[0;34m)\u001b[0m\u001b[0;34m)\u001b[0m\u001b[0;34m\u001b[0m\u001b[0;34m\u001b[0m\u001b[0m\n\u001b[1;32m      4\u001b[0m \u001b[0;34m\u001b[0m\u001b[0m\n\u001b[1;32m      5\u001b[0m \u001b[0mnb\u001b[0m \u001b[0;34m=\u001b[0m \u001b[0mnp\u001b[0m\u001b[0;34m.\u001b[0m\u001b[0masarray\u001b[0m\u001b[0;34m(\u001b[0m\u001b[0;34m[\u001b[0m\u001b[0mdiscretise\u001b[0m\u001b[0;34m(\u001b[0m\u001b[0mX\u001b[0m\u001b[0;34m[\u001b[0m\u001b[0mi\u001b[0m\u001b[0;34m]\u001b[0m\u001b[0;34m,\u001b[0m\u001b[0;36m3\u001b[0m\u001b[0;34m)\u001b[0m  \u001b[0;32mfor\u001b[0m \u001b[0mi\u001b[0m \u001b[0;32min\u001b[0m \u001b[0mg\u001b[0m\u001b[0;34m[\u001b[0m\u001b[0mnp\u001b[0m\u001b[0;34m.\u001b[0m\u001b[0mrandom\u001b[0m\u001b[0;34m.\u001b[0m\u001b[0mrandint\u001b[0m\u001b[0;34m(\u001b[0m\u001b[0mlen\u001b[0m\u001b[0;34m(\u001b[0m\u001b[0mg\u001b[0m\u001b[0;34m)\u001b[0m\u001b[0;34m)\u001b[0m\u001b[0;34m]\u001b[0m\u001b[0;34m]\u001b[0m\u001b[0;34m)\u001b[0m\u001b[0;34m\u001b[0m\u001b[0;34m\u001b[0m\u001b[0m\n",
      "\u001b[0;31mIndexError\u001b[0m: index 98 is out of bounds for axis 0 with size 3"
     ]
    }
   ],
   "source": [
    "nb = np.asarray([discretise(X[i],3)  for i in g[np.random.randint(len(g))]])\n",
    "A = learnMarkovModel(nb,3)[1]\n",
    "print(getU(A))\n",
    "\n",
    "nb = np.asarray([discretise(X[i],3)  for i in g[np.random.randint(len(g))]])\n",
    "A = learnMarkovModel(nb,3)[1]\n",
    "print(getU(A))\n",
    "\n",
    "nb = np.asarray([discretise(X[i],3)  for i in g[np.random.randint(len(g))]])\n",
    "A = learnMarkovModel(nb,3)[1]\n",
    "print(getU(A))"
   ]
  },
  {
   "cell_type": "markdown",
   "metadata": {},
   "source": [
    "##  B. Test (affectation dans les classes sur critère MV)\n",
    "### B1. (log)Probabilité d'une séquence dans un modèle\n",
    "\n",
    "Donner le code de la méthode `probaSequence(s,Pi,A)` qui retourne la log-probabilité d'une séquence `s` dans le modèle {$\\lambda=\\{Pi,A\\}$} "
   ]
  },
  {
   "cell_type": "code",
   "execution_count": null,
   "metadata": {},
   "outputs": [],
   "source": [
    "def probaSequence(s, Pi, A):\n",
    "    \n",
    "    s = s.astype(int)\n",
    "    out = np.log(Pi[s[0]])\n",
    "    for i in range(len(s) - 1):\n",
    "        out += np.log(A[s[i]][s[i+1]])\n",
    "    \n",
    "    return out"
   ]
  },
  {
   "cell_type": "code",
   "execution_count": null,
   "metadata": {},
   "outputs": [],
   "source": [
    "np.array([probaSequence(discretise(X[0],3),m[0],m[1]) for m in getModels(3)[0]]) "
   ]
  },
  {
   "cell_type": "markdown",
   "metadata": {},
   "source": [
    "**VALIDATION :** probabilité du premier signal dans les 26 modèles avec une discrétisation sur 3 états :\n",
    "```python\n",
    "array([-13.491086  ,         -inf,         -inf,         -inf,\n",
    "               -inf,         -inf,         -inf,         -inf,\n",
    "               -inf,         -inf,         -inf,         -inf,\n",
    "               -inf,         -inf,         -inf,         -inf,\n",
    "               -inf,         -inf,         -inf,         -inf,\n",
    "               -inf,         -inf,         -inf,         -inf,\n",
    "               -inf, -12.48285678])\n",
    "```\n",
    "\n",
    "- Ce signal est-il bien classé ?\n",
    "- D'où viennent tous les `-inf` ? "
   ]
  },
  {
   "cell_type": "markdown",
   "metadata": {},
   "source": [
    "    a cause des propabilité nulles on ne peut pas savoir si le signal est bien classé ou pas, les -inf sont cause par les log(0)"
   ]
  },
  {
   "cell_type": "markdown",
   "metadata": {},
   "source": [
    "### B2. Application de la méthode précédente pour tous les signaux et tous les modèles de lettres\n",
    "\n",
    "L'application se fait en une ligne de code si vous avez respecté les spécifications précédentes : "
   ]
  },
  {
   "cell_type": "code",
   "execution_count": null,
   "metadata": {},
   "outputs": [],
   "source": [
    "models,Xd = getModels(20)\n",
    "proba20 = np.array([[probaSequence(Xd[i], models[cl][0], models[cl][1]) for i in range(len(Xd))]\n",
    "                  for cl in range(len(np.unique(Y)))])\n",
    "models,Xd = getModels(3)\n",
    "proba3 = np.array([[probaSequence(Xd[i], models[cl][0], models[cl][1]) for i in range(len(Xd))]\n",
    "                  for cl in range(len(np.unique(Y)))])\n"
   ]
  },
  {
   "cell_type": "markdown",
   "metadata": {},
   "source": [
    "### B3. Evaluation des performances\n",
    "\n",
    "Pour l'évaluation, nous proposons l'approche suivante: "
   ]
  },
  {
   "cell_type": "code",
   "execution_count": null,
   "metadata": {},
   "outputs": [],
   "source": [
    "Ynum = np.zeros(Y.shape)\n",
    "for num, char in enumerate(np.unique(Y)):\n",
    "    Ynum[Y == char] = num\n",
    "    \n",
    "def accuracy(proba,y):\n",
    "    pred = proba.argmax(0) \n",
    "    return np.where(pred != y, 0.,1.).mean()"
   ]
  },
  {
   "cell_type": "code",
   "execution_count": null,
   "metadata": {},
   "outputs": [],
   "source": [
    "print(\" pour 20 etats : \")\n",
    "print(accuracy(proba20,Ynum))\n",
    "print(\" pour 3 etats : \")\n",
    "print(accuracy(proba3,Ynum))"
   ]
  },
  {
   "cell_type": "markdown",
   "metadata": {},
   "source": [
    "**INDICE DE PERFORMANCE :** 91% de bonne classification avec 20 états, 69% avec 3 états"
   ]
  },
  {
   "cell_type": "code",
   "execution_count": null,
   "metadata": {},
   "outputs": [],
   "source": [
    "def showAccNaif():\n",
    "    nbEtats = [i for i in range(1,21)]\n",
    "    accList = []\n",
    "    for e in nbEtats:\n",
    "        models,Xd = getModels(e)\n",
    "        proba = np.array([[probaSequence(Xd[i], models[cl][0], models[cl][1]) for i in range(len(Xd))]\n",
    "                      for cl in range(len(np.unique(Y)))])\n",
    "        accList.append(accuracy(proba,Ynum))\n",
    "        \n",
    "    plt.title('taux de bonne classification en fonctions de nb etats')\n",
    "    plt.xlabel('nb etats')\n",
    "    plt.ylabel('Accuracy')\n",
    "    plt.plot(nbEtats,accList)\n",
    "    plt.show()\n",
    "showAccNaif()"
   ]
  },
  {
   "cell_type": "markdown",
   "metadata": {},
   "source": [
    "## C. Biais d'évaluation, notion de sur-apprentissage\n",
    "\n",
    "Dans le protocole précédent, nous avons triché:\n",
    "- les données servent d'abord à apprendre les modèles...\n",
    "- puis nous nous servons des mêmes données pour tester les modèles ! Les performances sont forcément bonnes ! \n",
    "\n",
    "Afin de palier le problème, nous allons diviser en deux la base de données: une partie servira à l'apprentissage des modèles, l'autre à leur évaluation. Pour effectuer la division, nous fournissons le code suivant: "
   ]
  },
  {
   "cell_type": "code",
   "execution_count": null,
   "metadata": {},
   "outputs": [],
   "source": [
    "# separation app/test, pc=ratio de points en apprentissage\n",
    "def separeTrainTest(y, pc):\n",
    "    indTrain = []\n",
    "    indTest = []\n",
    "    for i in np.unique(y): # pour toutes les classes\n",
    "        ind, = np.where(y == i)\n",
    "        n = len(ind)\n",
    "        indTrain.append(ind[np.random.permutation(n)][:int(np.floor(pc * n))])\n",
    "        indTest.append(np.setdiff1d(ind, indTrain[-1]))\n",
    "    return indTrain, indTest\n",
    "\n",
    "# exemple d'utilisation\n",
    "itrain, itest = separeTrainTest(Y, 0.8)"
   ]
  },
  {
   "cell_type": "markdown",
   "metadata": {},
   "source": [
    "dans `itrain`, nous obtenons les indices des signaux qui doivent servir en apprentissage pour chaque classe :"
   ]
  },
  {
   "cell_type": "code",
   "execution_count": null,
   "metadata": {},
   "outputs": [],
   "source": [
    "itrain"
   ]
  },
  {
   "cell_type": "markdown",
   "metadata": {},
   "source": [
    "**Note :** pour faciliter l'évaluation des modèles, vous aurez besoin de re-fusionner tous les indices d'apprentissage et de test. Cela se fait avec les lignes de code suivantes : "
   ]
  },
  {
   "cell_type": "code",
   "execution_count": null,
   "metadata": {},
   "outputs": [],
   "source": [
    "ia = []\n",
    "for i in itrain:\n",
    "    ia += i.tolist()    \n",
    "it = []\n",
    "for i in itest:\n",
    "    it += i.tolist()"
   ]
  },
  {
   "cell_type": "markdown",
   "metadata": {},
   "source": [
    "**Note 2 :** Du fait de la permutation aléatoire, les résultats vont bouger (un peu) à chaque execution du programme. "
   ]
  },
  {
   "cell_type": "markdown",
   "metadata": {},
   "source": [
    "### C1. Questions importantes\n",
    "- Ré-utiliser les fonctions précédemment définies pour apprendre des modèles et les évaluer sans biais.\n",
    "- Calculer et analyser les résultats obtenus en apprentissage et en test\n",
    "- Etudier l'évolution des performances en fonction de la discrétisation"
   ]
  },
  {
   "cell_type": "code",
   "execution_count": null,
   "metadata": {},
   "outputs": [],
   "source": [
    "def train(ia,d):\n",
    "    xTrain = np.array([discretise(x, d) for x in X[ia]])\n",
    "    index = groupByLabel(Y[ia]) \n",
    "    models = []\n",
    "    for cl in range(len(np.unique(Y[ia]))): \n",
    "        models.append(learnMarkovModel(xTrain[index[cl]], d))\n",
    "    return models\n",
    "\n",
    "def test(it,models,d):\n",
    "    xTest = np.array([discretise(x, d) for x in X[it]])\n",
    "    proba = np.array([[probaSequence(xTest[i], models[cl][0], models[cl][1]) for i in range(len(xTest))]\n",
    "                  for cl in range(len(np.unique(Y)))])\n",
    "    return proba\n"
   ]
  },
  {
   "cell_type": "code",
   "execution_count": null,
   "metadata": {},
   "outputs": [],
   "source": [
    "proba20 = test(it,train(ia,20),20)\n",
    "proba3 = test(it,train(ia,3),3)"
   ]
  },
  {
   "cell_type": "code",
   "execution_count": null,
   "metadata": {},
   "outputs": [],
   "source": [
    "print(\" pour 20 etats : \")\n",
    "print(accuracy(proba20,Ynum[it]))\n",
    "print(\" pour 3 etats : \")\n",
    "print(accuracy(proba3,Ynum[it]))"
   ]
  },
  {
   "cell_type": "code",
   "execution_count": null,
   "metadata": {},
   "outputs": [],
   "source": [
    "def showAcc():\n",
    "    nbEtats = [i for i in range(1,21)]\n",
    "    learningPerc = [i/10. for i in range(1,11)]\n",
    "    accList = []\n",
    "    itrain, itest = separeTrainTest(Y, 0.8)\n",
    "    ia = []\n",
    "    for i in itrain:\n",
    "        ia += i.tolist()    \n",
    "    it = []\n",
    "    for i in itest:\n",
    "        it += i.tolist()\n",
    "    for e in nbEtats:\n",
    "        proba = test(it,train(ia,e),e)\n",
    "        accList.append(accuracy(proba,Ynum[it]))\n",
    "    plt.title('taux de bonne classification en fonctions de nb etats avec learning 80% de data et test sur 20%')\n",
    "    plt.xlabel('nb etats')\n",
    "    plt.ylabel('Accuracy')\n",
    "    plt.plot(nbEtats,accList)\n",
    "    plt.show()\n",
    "    \n",
    "    accList = []    \n",
    "    for p in learningPerc:\n",
    "        itrain, itest = separeTrainTest(Y, p)\n",
    "        ia = []\n",
    "        for i in itrain:\n",
    "            ia += i.tolist()    \n",
    "        it = []\n",
    "        for i in itest:\n",
    "            it += i.tolist()\n",
    "        proba = test(it,train(ia,20),20)\n",
    "        accList.append(accuracy(proba,Ynum[it]))\n",
    "    plt.title('taux de bonne classification en fonctions de pourcentage d\\'apprentissage avec 20 etats')\n",
    "    plt.xlabel('Learning percentage')\n",
    "    plt.ylabel('Accuracy')\n",
    "    plt.plot(learningPerc,accList)\n",
    "    plt.show()\n",
    "    \n",
    "    \n",
    "    \n",
    "showAcc()"
   ]
  },
  {
   "cell_type": "markdown",
   "metadata": {},
   "source": [
    "### C2. Lutter contre le sur-apprentissage\n",
    "Cette base de données met en lumière le phénomène de sur-apprentissage : il y a peu de données et dès que le nombre d'états augmente, il y a trop peu d'exemple pour estimer correctement les matrices {$A, \\pi$}. De nombreuses cases sont donc à 0, voire des lignes entières (d'où la sécurisation du code pour la normalisation des matrices stochastiques).\n",
    "\n",
    "Ces 0 sont particulièrement discriminants: considérant la classe {$c$}, ils permettent d'éliminer de cette classe tout signal présentant cette caractéristique. Cette règle est trop forte compte tenu de la taille de la base d'apprentissage. Nous proposons une astuce pour palier cette faiblesse : lors du comptage, initialiser les matrices {$A, \\pi$} avec ones au lieu de zeros . On fait semblant d'avoir observer une transition de chaque type avant même le début du comptage.\n",
    "\n",
    "Comparer les performances en test."
   ]
  },
  {
   "cell_type": "code",
   "execution_count": null,
   "metadata": {},
   "outputs": [],
   "source": [
    "def learnMarkovModel_new(Xc, d):\n",
    "    \n",
    "    A = np.ones((d, d))\n",
    "    Pi = np.ones(d)\n",
    "    \n",
    "    for x in Xc:\n",
    "        x = x.astype(int)\n",
    "        Pi[x[0]] += 1\n",
    "        for i in range(len(x) - 1):\n",
    "            A[x[i]][x[i+1]] +=1 \n",
    "    A = A / np.maximum(A.sum(1).reshape(d, 1), 1) # normalisation\n",
    "    Pi = Pi / Pi.sum()\n",
    "    return Pi, A\n",
    "\n",
    "def train_new(ia,d):\n",
    "    xTrain = np.array([discretise(x, d) for x in X[ia]])\n",
    "    index = groupByLabel(Y[ia]) \n",
    "    models = []\n",
    "    for cl in range(len(np.unique(Y[ia]))): \n",
    "        models.append(learnMarkovModel_new(xTrain[index[cl]], d))\n",
    "    return models"
   ]
  },
  {
   "cell_type": "code",
   "execution_count": null,
   "metadata": {},
   "outputs": [],
   "source": [
    "proba20 = test(it,train_new(ia,20),20)\n",
    "proba3 = test(it,train_new(ia,3),3)"
   ]
  },
  {
   "cell_type": "code",
   "execution_count": null,
   "metadata": {},
   "outputs": [],
   "source": [
    "print(\" pour 20 etats : \")\n",
    "print(accuracy(proba20,Ynum[it]))\n",
    "print(\" pour 3 etats : \")\n",
    "print(accuracy(proba3,Ynum[it]))"
   ]
  },
  {
   "cell_type": "code",
   "execution_count": null,
   "metadata": {},
   "outputs": [],
   "source": [
    "def showAcc():\n",
    "    nbEtats = [i for i in range(1,21)]\n",
    "    learningPerc = [i/10. for i in range(1,11)]\n",
    "    accList = []\n",
    "    itrain, itest = separeTrainTest(Y, 0.8)\n",
    "    ia = []\n",
    "    for i in itrain:\n",
    "        ia += i.tolist()    \n",
    "    it = []\n",
    "    for i in itest:\n",
    "        it += i.tolist()\n",
    "    for e in nbEtats:\n",
    "        proba = test(it,train_new(ia,e),e)\n",
    "        accList.append(accuracy(proba,Ynum[it]))\n",
    "    plt.title('taux de bonne classification en fonctions de nb etats avec learning 80% de data et test sur 20% + init a 1')\n",
    "    plt.xlabel('nb etats')\n",
    "    plt.ylabel('Accuracy')\n",
    "    plt.plot(nbEtats,accList)\n",
    "    plt.show()\n",
    "    \n",
    "    accList = []    \n",
    "    for p in learningPerc:\n",
    "        itrain, itest = separeTrainTest(Y, p)\n",
    "        ia = []\n",
    "        for i in itrain:\n",
    "            ia += i.tolist()    \n",
    "        it = []\n",
    "        for i in itest:\n",
    "            it += i.tolist()\n",
    "        proba = test(it,train_new(ia,20),20)\n",
    "        accList.append(accuracy(proba,Ynum[it]))\n",
    "    plt.title('taux de bonne classification en fonctions de pourcentage d\\'apprentissage avec 20 etats + init a 1')\n",
    "    plt.xlabel('Learning percentage')\n",
    "    plt.ylabel('Accuracy')\n",
    "    plt.plot(learningPerc,accList)\n",
    "    plt.show()\n",
    "    \n",
    "    \n",
    "    \n",
    "showAcc()"
   ]
  },
  {
   "cell_type": "markdown",
   "metadata": {},
   "source": [
    "## D. Evaluation qualitative\n",
    "\n",
    "Nous nous demandons maintenant où se trouvent les erreurs que nous avons commises...\n",
    "\n",
    "Calcul de la matrice de confusion: pour chaque échantillon de test, nous avons une prédiction (issue du modèle) et une vérité terrain (la vraie étiquette). En posant Nc le nombre de classes, la matrice de confusion est une matrice (Nc x Nc) où nous comptons le nombre d'échantillon de test dans chaque catégorie :\n",
    "\n",
    "- Initialisation à 0 : "
   ]
  },
  {
   "cell_type": "code",
   "execution_count": null,
   "metadata": {},
   "outputs": [],
   "source": [
    "conf = np.zeros((26,26))"
   ]
  },
  {
   "cell_type": "markdown",
   "metadata": {},
   "source": [
    "- Pour chaque échantillon, incrément de la case (prediction, vérité)"
   ]
  },
  {
   "cell_type": "code",
   "execution_count": null,
   "metadata": {},
   "outputs": [],
   "source": [
    "d = 20\n",
    "itrain, itest = separeTrainTest(Y, 0.8)\n",
    "ia = []\n",
    "for i in itrain:\n",
    "    ia += i.tolist()    \n",
    "it = []\n",
    "for i in itest:\n",
    "    it += i.tolist()\n",
    "    \n",
    "models = train_new(ia,d)\n",
    "proba = test(it,models,d)\n",
    "\n",
    "prediction = proba.argmax(0)\n",
    "truth = Ynum[it]\n",
    "for i in range(len(prediction)):\n",
    "        conf[int(prediction[i])][int(truth[i])] += 1  \n",
    "accuracy(proba,Ynum[it])"
   ]
  },
  {
   "cell_type": "markdown",
   "metadata": {},
   "source": [
    "- Tracé de la matrice : "
   ]
  },
  {
   "cell_type": "code",
   "execution_count": null,
   "metadata": {},
   "outputs": [],
   "source": [
    "plt.figure()\n",
    "plt.imshow(conf, interpolation = 'nearest')\n",
    "plt.colorbar()\n",
    "plt.xticks(np.arange(26), np.unique(Y))\n",
    "plt.yticks(np.arange(26), np.unique(Y))\n",
    "plt.xlabel(u'Vérité terrain')\n",
    "plt.ylabel(u'Prédiction')\n",
    "#plt.savefig(\"mat_conf_lettres.png\")"
   ]
  },
  {
   "cell_type": "markdown",
   "metadata": {},
   "source": [
    "## E. Modèle génératif\n",
    "\n",
    "Utiliser les modèles appris pour générer de nouvelles lettres manuscrites.\n",
    "\n",
    "### E1. Tirage selon une loi de probabilité discrète\n",
    "\n",
    "- faire la somme cumulée de la loi {$sc$}\n",
    "- tirer un nombre aléatoire {$t$} entre 0 et 1\n",
    "- trouver la première valeur de {$sc$} qui est supérieure à {$t$}\n",
    "- retourner cet état \n",
    "\n",
    "**Note :** comme vu en cours, tout repose sur la somme cumulée (notée ici `sc$`, calculable en appelant `np.cumsum`. Sur un exemple: la loi `V = [0.2, 0.4, 0.3, 0.1]` a pour somme cumulée `V.cumsum() == [0.2,  0.6,  0.9,  1.0]`\n",
    "\n",
    "### E2. Génération d'une séquence de longueur N\n",
    "\n",
    "- tirer un état {$s_0$} selon Pi\n",
    "- tant que la longueur n'est pas atteinte :\n",
    "  - tirer un état {$s_{t+1}$} selon {$A[s_{t}]$} "
   ]
  },
  {
   "cell_type": "code",
   "execution_count": null,
   "metadata": {},
   "outputs": [],
   "source": [
    "def generate(Pi,A,N):\n",
    "    e = np.where(Pi.cumsum() > np.random.random())[0][0]\n",
    "    out = [e]\n",
    "    for i in range(1,N):\n",
    "        e = np.where(A[out[i-1]].cumsum() > np.random.random())[0][0]\n",
    "        out.append(e)\n",
    "    return out\n"
   ]
  },
  {
   "cell_type": "markdown",
   "metadata": {},
   "source": [
    "### E3. Affichage du résultat"
   ]
  },
  {
   "cell_type": "code",
   "execution_count": null,
   "metadata": {},
   "outputs": [],
   "source": [
    "d=20\n",
    "models = train(it,d)\n",
    "newa = generate(models[0][0], models[0][1], 20)       # generation d'une séquence d'états\n",
    "intervalle = 360. / d                                 # pour passer des états => valeur d'angles\n",
    "newa_continu = np.array([i * intervalle for i in newa]) # conv int => double\n",
    "tracerLettre(newa_continu)"
   ]
  },
  {
   "cell_type": "code",
   "execution_count": null,
   "metadata": {},
   "outputs": [],
   "source": []
  }
 ],
 "metadata": {
  "kernelspec": {
   "display_name": "Python 3",
   "language": "python",
   "name": "python3"
  },
  "language_info": {
   "codemirror_mode": {
    "name": "ipython",
    "version": 3
   },
   "file_extension": ".py",
   "mimetype": "text/x-python",
   "name": "python",
   "nbconvert_exporter": "python",
   "pygments_lexer": "ipython3",
   "version": "3.9.1"
  }
 },
 "nbformat": 4,
 "nbformat_minor": 4
}
